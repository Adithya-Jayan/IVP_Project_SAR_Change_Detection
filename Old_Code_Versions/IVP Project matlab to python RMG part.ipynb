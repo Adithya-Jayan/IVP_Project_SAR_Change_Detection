{
 "cells": [
  {
   "cell_type": "code",
   "execution_count": 1,
   "metadata": {},
   "outputs": [],
   "source": [
    "import pandas as pd"
   ]
  },
  {
   "cell_type": "code",
   "execution_count": 2,
   "metadata": {
    "scrolled": true
   },
   "outputs": [
    {
     "data": {
      "text/plain": [
       "array([[10.39230485, 15.58845727, 25.98076211],\n",
       "       [ 5.19615242, 10.39230485, 20.78460969],\n",
       "       [10.39230485,  5.19615242,  5.19615242]])"
      ]
     },
     "execution_count": 2,
     "metadata": {},
     "output_type": "execute_result"
    }
   ],
   "source": [
    "import scipy\n",
    "from scipy.spatial.distance import cdist\n",
    "\n",
    "import numpy as np\n",
    "s=np.array([[1,2,3],[4,5,6],[13,14,15]])\n",
    "t=np.array([[7,8,9],[10,11,12],[16,17,18]])\n",
    "dis= cdist(s,t,'euclidean')\n",
    "dis\n",
    "# a,b=np.shape(s)\n",
    "# print(a)\n",
    "# print(b)"
   ]
  },
  {
   "cell_type": "code",
   "execution_count": 3,
   "metadata": {},
   "outputs": [],
   "source": [
    "#anchorgraph\n",
    "\n",
    "import scipy\n",
    "from scipy.spatial.distance import cdist\n",
    "# dist = cdist(a, b)\n",
    "def Anchorgraph(traindata, anchor, s, flag, cn):\n",
    "    d,m= np.shape(anchor)\n",
    "    n= np.shape(traindata[1])\n",
    "    Z=np.zeros(n,m)\n",
    "    \n",
    "    dis= np.zeros(traindat.size)\n",
    "    dis= cdist(traindata, anchor,'euclidean')\n",
    "    \n",
    "    val = np.zeros(n,s)\n",
    "    pos = val\n",
    "    \n",
    "    for i in range(0,s):\n",
    "        (val[:i],pos[:i])= np.min(dis[i])\n",
    "        tep = (pos[:,i]-1)*n+range(1,n).T\n",
    "#         dis(tep)= 7776\n",
    "        \n",
    "    \n",
    "    ind = (pos-1)*n +np.tile(range(1,n+1).T,(1,s))\n",
    "    \n",
    "    if flag ==0:\n",
    "        sigma = np.mean(val[:s]**0.5)\n",
    "        val= np.exp(-val/(1/1*sigma**2))\n",
    "        \n",
    "        val = np.tile(sum(val[1])**(-1),(1,s))*val\n",
    "        \n",
    "    else:\n",
    "        for i in range(0,n):\n",
    "            x=TrainData[:][i]\n",
    "            x=x/np.linalg.norm(x)\n",
    "            \n",
    "            U = anchor[:][pos[:][i]]\n",
    "            U= U*np.diag(np.sum(U**2)**(-0.5))\n",
    "            #val[i][:] = LAE(x,U,cn)\n",
    "            \n",
    "    Z[ind] = val;\n",
    "    Z = scipy.sparse(Z);\n",
    "    T = (Z.T)*Z;\n",
    "    rL = T-T*np.diag(sum(Z)**(-1))*T;\n",
    "    "
   ]
  },
  {
   "cell_type": "code",
   "execution_count": 4,
   "metadata": {},
   "outputs": [
    {
     "ename": "SyntaxError",
     "evalue": "invalid syntax (<ipython-input-4-d52674af4b4e>, line 16)",
     "output_type": "error",
     "traceback": [
      "\u001b[1;36m  File \u001b[1;32m\"<ipython-input-4-d52674af4b4e>\"\u001b[1;36m, line \u001b[1;32m16\u001b[0m\n\u001b[1;33m    Z1=\u001b[0m\n\u001b[1;37m       ^\u001b[0m\n\u001b[1;31mSyntaxError\u001b[0m\u001b[1;31m:\u001b[0m invalid syntax\n"
     ]
    }
   ],
   "source": [
    "#anchorgraphreg\n",
    "\n",
    "def Anchorgraphreg(Z,rL,ground, label_index, gamma):\n",
    "    \n",
    "    d,m= np.shape(Z)\n",
    "    ln=np.size(label_index)\n",
    "    C=np.max(ground)\n",
    "    \n",
    "    Y1=np.zeros(ln,C)\n",
    "    \n",
    "    for i in range(0,C):\n",
    "        ind = find(ground[label_index],i)\n",
    "        \n",
    "        \n",
    "\n",
    "Z1="
   ]
  },
  {
   "cell_type": "code",
   "execution_count": null,
   "metadata": {},
   "outputs": [],
   "source": [
    "#anchors\n",
    "\n",
    "def Anchors(X,m):\n",
    "    maxIter = 10\n",
    "    [~,anchors]=litekmeans(X,m,'MaxIter',maxIter)"
   ]
  },
  {
   "cell_type": "code",
   "execution_count": null,
   "metadata": {},
   "outputs": [],
   "source": [
    "#multigraphs\n",
    "import math\n",
    "def MultiGraphs(X,labels,label_index,kg,kf):\n",
    "    n=np.shape(X[1])\n",
    "    k=max(np.unique(labels).shape)\n",
    "    G=np.array([kg,1])\n",
    "    F=np.zeros(n,k)\n",
    "    for i in range(kg):\n",
    "        X1=SelectFeatures(X, kf, i)\n",
    "      \n",
    "        m=math.floor(n*0.05)\n",
    "        A=Anchors(X1,m)\n",
    "        A=[[A],[X1(label_index,:)]]\n",
    "        s = 2\n",
    "        cn = 10\n",
    "        [Z,rL] = AnchorGraph(X1.T, A.T, s, 0, cn)\n",
    "        \n",
    "        F1 = AnchorGraphReg(Z, rL, labels, label_index, 0.01)\n",
    "        \n",
    "        G{i}=F1\n",
    "        F+=F1\n",
    "        \n",
    "    F/=kg\n",
    "        \n",
    "        "
   ]
  },
  {
   "cell_type": "code",
   "execution_count": null,
   "metadata": {},
   "outputs": [],
   "source": []
  },
  {
   "cell_type": "code",
   "execution_count": null,
   "metadata": {},
   "outputs": [],
   "source": []
  }
 ],
 "metadata": {
  "kernelspec": {
   "display_name": "Python 3",
   "language": "python",
   "name": "python3"
  },
  "language_info": {
   "codemirror_mode": {
    "name": "ipython",
    "version": 3
   },
   "file_extension": ".py",
   "mimetype": "text/x-python",
   "name": "python",
   "nbconvert_exporter": "python",
   "pygments_lexer": "ipython3",
   "version": "3.8.5"
  }
 },
 "nbformat": 4,
 "nbformat_minor": 4
}
